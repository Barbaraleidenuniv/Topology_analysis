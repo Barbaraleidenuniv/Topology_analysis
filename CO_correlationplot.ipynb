{
 "cells": [
  {
   "cell_type": "code",
   "execution_count": 3,
   "metadata": {},
   "outputs": [],
   "source": [
    "import numpy as np\n",
    "import matplotlib.pyplot as plt\n",
    "%matplotlib inline\n",
    "import seaborn as sns\n",
    "import pandas as pd\n",
    "\n",
    "from correlation_analysis import corr_matrix\n",
    "from correlation_analysis import set_layout"
   ]
  },
  {
   "cell_type": "markdown",
   "metadata": {},
   "source": [
    "MAKE CORRELATION HEAT MAPS FOR TWO/MULTI STATE FOLDERS, SUBDIVIDED BY THEIR CO"
   ]
  },
  {
   "cell_type": "markdown",
   "metadata": {},
   "source": [
    "Load correlation data, calculated in 'CT_FoldingRate_corr'"
   ]
  },
  {
   "cell_type": "code",
   "execution_count": 29,
   "metadata": {},
   "outputs": [
    {
     "data": {
      "text/html": [
       "<div>\n",
       "<style scoped>\n",
       "    .dataframe tbody tr th:only-of-type {\n",
       "        vertical-align: middle;\n",
       "    }\n",
       "\n",
       "    .dataframe tbody tr th {\n",
       "        vertical-align: top;\n",
       "    }\n",
       "\n",
       "    .dataframe thead th {\n",
       "        text-align: right;\n",
       "    }\n",
       "</style>\n",
       "<table border=\"1\" class=\"dataframe\">\n",
       "  <thead>\n",
       "    <tr style=\"text-align: right;\">\n",
       "      <th></th>\n",
       "      <th>series corr</th>\n",
       "      <th>series pvalue</th>\n",
       "      <th>parallel corr</th>\n",
       "      <th>parallel pvalue</th>\n",
       "      <th>cross corr</th>\n",
       "      <th>cross pvalue</th>\n",
       "      <th>folder</th>\n",
       "    </tr>\n",
       "  </thead>\n",
       "  <tbody>\n",
       "    <tr>\n",
       "      <th>0</th>\n",
       "      <td>0.18</td>\n",
       "      <td>0.570</td>\n",
       "      <td>0.17</td>\n",
       "      <td>0.601</td>\n",
       "      <td>-0.43</td>\n",
       "      <td>0.162</td>\n",
       "      <td>two</td>\n",
       "    </tr>\n",
       "    <tr>\n",
       "      <th>1</th>\n",
       "      <td>-0.55</td>\n",
       "      <td>0.026</td>\n",
       "      <td>0.51</td>\n",
       "      <td>0.045</td>\n",
       "      <td>0.14</td>\n",
       "      <td>0.613</td>\n",
       "      <td>multi</td>\n",
       "    </tr>\n",
       "  </tbody>\n",
       "</table>\n",
       "</div>"
      ],
      "text/plain": [
       "   series corr  series pvalue  parallel corr  parallel pvalue  cross corr  \\\n",
       "0         0.18          0.570           0.17            0.601       -0.43   \n",
       "1        -0.55          0.026           0.51            0.045        0.14   \n",
       "\n",
       "   cross pvalue folder  \n",
       "0         0.162    two  \n",
       "1         0.613  multi  "
      ]
     },
     "metadata": {},
     "output_type": "display_data"
    },
    {
     "data": {
      "text/html": [
       "<div>\n",
       "<style scoped>\n",
       "    .dataframe tbody tr th:only-of-type {\n",
       "        vertical-align: middle;\n",
       "    }\n",
       "\n",
       "    .dataframe tbody tr th {\n",
       "        vertical-align: top;\n",
       "    }\n",
       "\n",
       "    .dataframe thead th {\n",
       "        text-align: right;\n",
       "    }\n",
       "</style>\n",
       "<table border=\"1\" class=\"dataframe\">\n",
       "  <thead>\n",
       "    <tr style=\"text-align: right;\">\n",
       "      <th></th>\n",
       "      <th>series corr</th>\n",
       "      <th>series pvalue</th>\n",
       "      <th>parallel corr</th>\n",
       "      <th>parallel pvalue</th>\n",
       "      <th>cross corr</th>\n",
       "      <th>cross pvalue</th>\n",
       "      <th>folder</th>\n",
       "    </tr>\n",
       "  </thead>\n",
       "  <tbody>\n",
       "    <tr>\n",
       "      <th>0</th>\n",
       "      <td>0.20</td>\n",
       "      <td>0.220</td>\n",
       "      <td>-0.07</td>\n",
       "      <td>0.648</td>\n",
       "      <td>-0.17</td>\n",
       "      <td>0.300</td>\n",
       "      <td>two</td>\n",
       "    </tr>\n",
       "    <tr>\n",
       "      <th>1</th>\n",
       "      <td>-0.28</td>\n",
       "      <td>0.262</td>\n",
       "      <td>0.51</td>\n",
       "      <td>0.029</td>\n",
       "      <td>-0.52</td>\n",
       "      <td>0.028</td>\n",
       "      <td>multi</td>\n",
       "    </tr>\n",
       "  </tbody>\n",
       "</table>\n",
       "</div>"
      ],
      "text/plain": [
       "   series corr  series pvalue  parallel corr  parallel pvalue  cross corr  \\\n",
       "0         0.20          0.220          -0.07            0.648       -0.17   \n",
       "1        -0.28          0.262           0.51            0.029       -0.52   \n",
       "\n",
       "   cross pvalue folder  \n",
       "0         0.300    two  \n",
       "1         0.028  multi  "
      ]
     },
     "metadata": {},
     "output_type": "display_data"
    },
    {
     "data": {
      "text/html": [
       "<div>\n",
       "<style scoped>\n",
       "    .dataframe tbody tr th:only-of-type {\n",
       "        vertical-align: middle;\n",
       "    }\n",
       "\n",
       "    .dataframe tbody tr th {\n",
       "        vertical-align: top;\n",
       "    }\n",
       "\n",
       "    .dataframe thead th {\n",
       "        text-align: right;\n",
       "    }\n",
       "</style>\n",
       "<table border=\"1\" class=\"dataframe\">\n",
       "  <thead>\n",
       "    <tr style=\"text-align: right;\">\n",
       "      <th></th>\n",
       "      <th>series corr</th>\n",
       "      <th>series pvalue</th>\n",
       "      <th>parallel corr</th>\n",
       "      <th>parallel pvalue</th>\n",
       "      <th>cross corr</th>\n",
       "      <th>cross pvalue</th>\n",
       "      <th>folder</th>\n",
       "    </tr>\n",
       "  </thead>\n",
       "  <tbody>\n",
       "    <tr>\n",
       "      <th>0</th>\n",
       "      <td>0.14</td>\n",
       "      <td>0.495</td>\n",
       "      <td>-0.02</td>\n",
       "      <td>0.923</td>\n",
       "      <td>-0.27</td>\n",
       "      <td>0.199</td>\n",
       "      <td>two</td>\n",
       "    </tr>\n",
       "    <tr>\n",
       "      <th>1</th>\n",
       "      <td>-0.75</td>\n",
       "      <td>0.051</td>\n",
       "      <td>0.82</td>\n",
       "      <td>0.025</td>\n",
       "      <td>-0.96</td>\n",
       "      <td>0.001</td>\n",
       "      <td>multi</td>\n",
       "    </tr>\n",
       "  </tbody>\n",
       "</table>\n",
       "</div>"
      ],
      "text/plain": [
       "   series corr  series pvalue  parallel corr  parallel pvalue  cross corr  \\\n",
       "0         0.14          0.495          -0.02            0.923       -0.27   \n",
       "1        -0.75          0.051           0.82            0.025       -0.96   \n",
       "\n",
       "   cross pvalue folder  \n",
       "0         0.199    two  \n",
       "1         0.001  multi  "
      ]
     },
     "metadata": {},
     "output_type": "display_data"
    }
   ],
   "source": [
    "file_name='Out_segments_60_4'\n",
    "higher = pd.read_excel('results/{}/higherCO.xls'.format(file_name))\n",
    "ave=pd.read_excel('results/{}/aveCO.xls'.format(file_name))\n",
    "lower= pd.read_excel('results/{}/lowerCO.xls'.format(file_name))\n",
    "\n",
    "#print data\n",
    "display(higher)\n",
    "display(ave)\n",
    "display(lower)"
   ]
  },
  {
   "cell_type": "markdown",
   "metadata": {},
   "source": [
    "Make correlation matrix: all values that yield pvalue<0.05 are eliminated"
   ]
  },
  {
   "cell_type": "code",
   "execution_count": 26,
   "metadata": {},
   "outputs": [],
   "source": [
    "corr_corrected=corr_matrix(higher, ave, lower)"
   ]
  },
  {
   "cell_type": "markdown",
   "metadata": {},
   "source": [
    "Plot heatmap"
   ]
  },
  {
   "cell_type": "code",
   "execution_count": 27,
   "metadata": {},
   "outputs": [
    {
     "data": {
      "image/png": "[encoded data removed]",
      "text/plain": [
       "<Figure size 432x288 with 2 Axes>"
      ]
     },
     "metadata": {
      "needs_background": "light"
     },
     "output_type": "display_data"
    }
   ],
   "source": [
    "SMALL_SIZE = 12\n",
    "MEDIUM_SIZE = 13\n",
    "BIGGER_SIZE = 17\n",
    "set_layout(SMALL_SIZE,MEDIUM_SIZE,BIGGER_SIZE)\n",
    "\n",
    "ax = sns.heatmap(\n",
    "    corr_corrected, \n",
    "    vmin=-1, vmax=1, center=0,\n",
    "    cmap=sns.diverging_palette(20, 220, n=200),\n",
    "    square=True\n",
    ")\n",
    "xlabels=['series','parallel','cross']\n",
    "ylabels=['two','multi','two','multi','two','multi']\n",
    "ax.set_xticklabels(xlabels)\n",
    "ax.set_yticklabels(ylabels)\n",
    "plt.xticks(rotation=30)\n",
    "plt.savefig('results/{}/figures/CO_correlation.jpg'.format(file_name))\n",
    "plt.savefig('results/{}/figures/CO_correlation.eps'.format(file_name),bbox_inches='tight')"
   ]
  },
  {
   "cell_type": "code",
   "execution_count": null,
   "metadata": {},
   "outputs": [],
   "source": []
  },
  {
   "cell_type": "code",
   "execution_count": null,
   "metadata": {},
   "outputs": [],
   "source": []
  }
 ],
 "metadata": {
  "kernelspec": {
   "display_name": "Python 3",
   "language": "python",
   "name": "python3"
  },
  "language_info": {
   "codemirror_mode": {
    "name": "ipython",
    "version": 3
   },
   "file_extension": ".py",
   "mimetype": "text/x-python",
   "name": "python",
   "nbconvert_exporter": "python",
   "pygments_lexer": "ipython3",
   "version": "3.7.7"
  }
 },
 "nbformat": 4,
 "nbformat_minor": 4
}
