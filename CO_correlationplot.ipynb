{
 "cells": [
  {
   "cell_type": "code",
   "execution_count": 7,
   "metadata": {},
   "outputs": [],
   "source": [
    "import numpy as np\n",
    "import matplotlib.pyplot as plt\n",
    "%matplotlib inline\n",
    "import seaborn as sns\n",
    "import pandas as pd\n",
    "\n",
    "from correlation_analysis import corr_matrix\n",
    "from correlation_analysis import set_layout"
   ]
  },
  {
   "cell_type": "markdown",
   "metadata": {},
   "source": [
    "MAKE CORRELATION HEAT MAPS FOR TWO/MULTI STATE FOLDERS, SUBDIVIDED BY THEIR CO"
   ]
  },
  {
   "cell_type": "markdown",
   "metadata": {},
   "source": [
    "Load correlation data, calculated in 'CT_FoldingRate_corr'"
   ]
  },
  {
   "cell_type": "code",
   "execution_count": 13,
   "metadata": {},
   "outputs": [
    {
     "data": {
      "text/html": [
       "<div>\n",
       "<style scoped>\n",
       "    .dataframe tbody tr th:only-of-type {\n",
       "        vertical-align: middle;\n",
       "    }\n",
       "\n",
       "    .dataframe tbody tr th {\n",
       "        vertical-align: top;\n",
       "    }\n",
       "\n",
       "    .dataframe thead th {\n",
       "        text-align: right;\n",
       "    }\n",
       "</style>\n",
       "<table border=\"1\" class=\"dataframe\">\n",
       "  <thead>\n",
       "    <tr style=\"text-align: right;\">\n",
       "      <th></th>\n",
       "      <th>series corr</th>\n",
       "      <th>series pvalue</th>\n",
       "      <th>parallel corr</th>\n",
       "      <th>parallel pvalue</th>\n",
       "      <th>cross corr</th>\n",
       "      <th>cross pvalue</th>\n",
       "      <th>folder</th>\n",
       "    </tr>\n",
       "  </thead>\n",
       "  <tbody>\n",
       "    <tr>\n",
       "      <th>0</th>\n",
       "      <td>0.01</td>\n",
       "      <td>0.973</td>\n",
       "      <td>0.53</td>\n",
       "      <td>0.075</td>\n",
       "      <td>-0.59</td>\n",
       "      <td>0.045</td>\n",
       "      <td>two</td>\n",
       "    </tr>\n",
       "    <tr>\n",
       "      <th>1</th>\n",
       "      <td>-0.58</td>\n",
       "      <td>0.019</td>\n",
       "      <td>0.33</td>\n",
       "      <td>0.206</td>\n",
       "      <td>0.65</td>\n",
       "      <td>0.006</td>\n",
       "      <td>multi</td>\n",
       "    </tr>\n",
       "  </tbody>\n",
       "</table>\n",
       "</div>"
      ],
      "text/plain": [
       "   series corr  series pvalue  parallel corr  parallel pvalue  cross corr  \\\n",
       "0         0.01          0.973           0.53            0.075       -0.59   \n",
       "1        -0.58          0.019           0.33            0.206        0.65   \n",
       "\n",
       "   cross pvalue folder  \n",
       "0         0.045    two  \n",
       "1         0.006  multi  "
      ]
     },
     "metadata": {},
     "output_type": "display_data"
    },
    {
     "data": {
      "text/html": [
       "<div>\n",
       "<style scoped>\n",
       "    .dataframe tbody tr th:only-of-type {\n",
       "        vertical-align: middle;\n",
       "    }\n",
       "\n",
       "    .dataframe tbody tr th {\n",
       "        vertical-align: top;\n",
       "    }\n",
       "\n",
       "    .dataframe thead th {\n",
       "        text-align: right;\n",
       "    }\n",
       "</style>\n",
       "<table border=\"1\" class=\"dataframe\">\n",
       "  <thead>\n",
       "    <tr style=\"text-align: right;\">\n",
       "      <th></th>\n",
       "      <th>series corr</th>\n",
       "      <th>series pvalue</th>\n",
       "      <th>parallel corr</th>\n",
       "      <th>parallel pvalue</th>\n",
       "      <th>cross corr</th>\n",
       "      <th>cross pvalue</th>\n",
       "      <th>folder</th>\n",
       "    </tr>\n",
       "  </thead>\n",
       "  <tbody>\n",
       "    <tr>\n",
       "      <th>0</th>\n",
       "      <td>0.02</td>\n",
       "      <td>0.892</td>\n",
       "      <td>-0.08</td>\n",
       "      <td>0.607</td>\n",
       "      <td>0.08</td>\n",
       "      <td>0.615</td>\n",
       "      <td>two</td>\n",
       "    </tr>\n",
       "    <tr>\n",
       "      <th>1</th>\n",
       "      <td>-0.43</td>\n",
       "      <td>0.075</td>\n",
       "      <td>0.43</td>\n",
       "      <td>0.072</td>\n",
       "      <td>0.06</td>\n",
       "      <td>0.802</td>\n",
       "      <td>multi</td>\n",
       "    </tr>\n",
       "  </tbody>\n",
       "</table>\n",
       "</div>"
      ],
      "text/plain": [
       "   series corr  series pvalue  parallel corr  parallel pvalue  cross corr  \\\n",
       "0         0.02          0.892          -0.08            0.607        0.08   \n",
       "1        -0.43          0.075           0.43            0.072        0.06   \n",
       "\n",
       "   cross pvalue folder  \n",
       "0         0.615    two  \n",
       "1         0.802  multi  "
      ]
     },
     "metadata": {},
     "output_type": "display_data"
    },
    {
     "data": {
      "text/html": [
       "<div>\n",
       "<style scoped>\n",
       "    .dataframe tbody tr th:only-of-type {\n",
       "        vertical-align: middle;\n",
       "    }\n",
       "\n",
       "    .dataframe tbody tr th {\n",
       "        vertical-align: top;\n",
       "    }\n",
       "\n",
       "    .dataframe thead th {\n",
       "        text-align: right;\n",
       "    }\n",
       "</style>\n",
       "<table border=\"1\" class=\"dataframe\">\n",
       "  <thead>\n",
       "    <tr style=\"text-align: right;\">\n",
       "      <th></th>\n",
       "      <th>series corr</th>\n",
       "      <th>series pvalue</th>\n",
       "      <th>parallel corr</th>\n",
       "      <th>parallel pvalue</th>\n",
       "      <th>cross corr</th>\n",
       "      <th>cross pvalue</th>\n",
       "      <th>folder</th>\n",
       "    </tr>\n",
       "  </thead>\n",
       "  <tbody>\n",
       "    <tr>\n",
       "      <th>0</th>\n",
       "      <td>-0.45</td>\n",
       "      <td>0.016</td>\n",
       "      <td>0.27</td>\n",
       "      <td>0.157</td>\n",
       "      <td>0.24</td>\n",
       "      <td>0.218</td>\n",
       "      <td>two</td>\n",
       "    </tr>\n",
       "    <tr>\n",
       "      <th>1</th>\n",
       "      <td>-0.93</td>\n",
       "      <td>0.002</td>\n",
       "      <td>0.83</td>\n",
       "      <td>0.021</td>\n",
       "      <td>0.94</td>\n",
       "      <td>0.001</td>\n",
       "      <td>multi</td>\n",
       "    </tr>\n",
       "  </tbody>\n",
       "</table>\n",
       "</div>"
      ],
      "text/plain": [
       "   series corr  series pvalue  parallel corr  parallel pvalue  cross corr  \\\n",
       "0        -0.45          0.016           0.27            0.157        0.24   \n",
       "1        -0.93          0.002           0.83            0.021        0.94   \n",
       "\n",
       "   cross pvalue folder  \n",
       "0         0.218    two  \n",
       "1         0.001  multi  "
      ]
     },
     "metadata": {},
     "output_type": "display_data"
    }
   ],
   "source": [
    "file_name='fractions_co50_5_4res'\n",
    "higher = pd.read_excel('results/{}/higherCO.xls'.format(file_name))\n",
    "ave=pd.read_excel('results/{}/aveCO.xls'.format(file_name))\n",
    "lower= pd.read_excel('results/{}/lowerCO.xls'.format(file_name))\n",
    "\n",
    "#print data\n",
    "display(higher)\n",
    "display(ave)\n",
    "display(lower)"
   ]
  },
  {
   "cell_type": "markdown",
   "metadata": {},
   "source": [
    "Make correlation matrix: all values that yield pvalue<0.05 are eliminated"
   ]
  },
  {
   "cell_type": "code",
   "execution_count": 15,
   "metadata": {},
   "outputs": [],
   "source": [
    "corr_corrected=corr_matrix(higher, ave, lower)"
   ]
  },
  {
   "cell_type": "markdown",
   "metadata": {},
   "source": [
    "Plot heatmap"
   ]
  },
  {
   "cell_type": "code",
   "execution_count": 16,
   "metadata": {},
   "outputs": [
    {
     "data": {
      "image/png": "[encoded data removed]",
      "text/plain": [
       "<Figure size 432x288 with 2 Axes>"
      ]
     },
     "metadata": {
      "needs_background": "light"
     },
     "output_type": "display_data"
    }
   ],
   "source": [
    "SMALL_SIZE = 12\n",
    "MEDIUM_SIZE = 13\n",
    "BIGGER_SIZE = 17\n",
    "set_layout(SMALL_SIZE,MEDIUM_SIZE,BIGGER_SIZE)\n",
    "\n",
    "ax = sns.heatmap(\n",
    "    corr_corrected, \n",
    "    vmin=-1, vmax=1, center=0,\n",
    "    cmap=sns.diverging_palette(20, 220, n=200),\n",
    "    square=True\n",
    ")\n",
    "xlabels=['series','parallel','cross']\n",
    "ylabels=['two','multi','two','multi','two','multi']\n",
    "ax.set_xticklabels(xlabels)\n",
    "ax.set_yticklabels(ylabels)\n",
    "plt.xticks(rotation=30)\n",
    "plt.savefig('results/{}/figures/CO_correlation.jpg'.format(file_name))\n",
    "plt.savefig('results/{}/figures/CO_correlation.eps'.format(file_name),bbox_inches='tight')"
   ]
  },
  {
   "cell_type": "code",
   "execution_count": null,
   "metadata": {},
   "outputs": [],
   "source": []
  }
 ],
 "metadata": {
  "kernelspec": {
   "display_name": "Python 3",
   "language": "python",
   "name": "python3"
  },
  "language_info": {
   "codemirror_mode": {
    "name": "ipython",
    "version": 3
   },
   "file_extension": ".py",
   "mimetype": "text/x-python",
   "name": "python",
   "nbconvert_exporter": "python",
   "pygments_lexer": "ipython3",
   "version": "3.7.7"
  }
 },
 "nbformat": 4,
 "nbformat_minor": 4
}
