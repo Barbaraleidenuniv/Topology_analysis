{
 "cells": [
  {
   "cell_type": "code",
   "execution_count": 7,
   "metadata": {},
   "outputs": [],
   "source": [
    "import numpy as np\n",
    "import matplotlib.pyplot as plt\n",
    "%matplotlib inline\n",
    "import seaborn as sns\n",
    "import pandas as pd\n",
    "\n",
    "from correlation_analysis import corr_matrix\n",
    "from correlation_analysis import set_layout"
   ]
  },
  {
   "cell_type": "markdown",
   "metadata": {},
   "source": [
    "MAKE CORRELATION HEAT MAPS FOR TWO/MULTI STATE FOLDERS, SUBDIVIDED BY THEIR CO"
   ]
  },
  {
   "cell_type": "markdown",
   "metadata": {},
   "source": [
    "Load correlation data, calculated in 'CT_FoldingRate_corr'"
   ]
  },
  {
   "cell_type": "code",
   "execution_count": 32,
   "metadata": {},
   "outputs": [
    {
     "data": {
      "text/html": [
       "<div>\n",
       "<style scoped>\n",
       "    .dataframe tbody tr th:only-of-type {\n",
       "        vertical-align: middle;\n",
       "    }\n",
       "\n",
       "    .dataframe tbody tr th {\n",
       "        vertical-align: top;\n",
       "    }\n",
       "\n",
       "    .dataframe thead th {\n",
       "        text-align: right;\n",
       "    }\n",
       "</style>\n",
       "<table border=\"1\" class=\"dataframe\">\n",
       "  <thead>\n",
       "    <tr style=\"text-align: right;\">\n",
       "      <th></th>\n",
       "      <th>series corr</th>\n",
       "      <th>series pvalue</th>\n",
       "      <th>parallel corr</th>\n",
       "      <th>parallel pvalue</th>\n",
       "      <th>cross corr</th>\n",
       "      <th>cross pvalue</th>\n",
       "      <th>folder</th>\n",
       "    </tr>\n",
       "  </thead>\n",
       "  <tbody>\n",
       "    <tr>\n",
       "      <th>0</th>\n",
       "      <td>-0.36</td>\n",
       "      <td>0.247</td>\n",
       "      <td>0.39</td>\n",
       "      <td>0.211</td>\n",
       "      <td>0.24</td>\n",
       "      <td>0.455</td>\n",
       "      <td>two</td>\n",
       "    </tr>\n",
       "    <tr>\n",
       "      <th>1</th>\n",
       "      <td>-0.60</td>\n",
       "      <td>0.014</td>\n",
       "      <td>0.56</td>\n",
       "      <td>0.026</td>\n",
       "      <td>0.55</td>\n",
       "      <td>0.027</td>\n",
       "      <td>multi</td>\n",
       "    </tr>\n",
       "  </tbody>\n",
       "</table>\n",
       "</div>"
      ],
      "text/plain": [
       "   series corr  series pvalue  parallel corr  parallel pvalue  cross corr  \\\n",
       "0        -0.36          0.247           0.39            0.211        0.24   \n",
       "1        -0.60          0.014           0.56            0.026        0.55   \n",
       "\n",
       "   cross pvalue folder  \n",
       "0         0.455    two  \n",
       "1         0.027  multi  "
      ]
     },
     "metadata": {},
     "output_type": "display_data"
    },
    {
     "data": {
      "text/html": [
       "<div>\n",
       "<style scoped>\n",
       "    .dataframe tbody tr th:only-of-type {\n",
       "        vertical-align: middle;\n",
       "    }\n",
       "\n",
       "    .dataframe tbody tr th {\n",
       "        vertical-align: top;\n",
       "    }\n",
       "\n",
       "    .dataframe thead th {\n",
       "        text-align: right;\n",
       "    }\n",
       "</style>\n",
       "<table border=\"1\" class=\"dataframe\">\n",
       "  <thead>\n",
       "    <tr style=\"text-align: right;\">\n",
       "      <th></th>\n",
       "      <th>series corr</th>\n",
       "      <th>series pvalue</th>\n",
       "      <th>parallel corr</th>\n",
       "      <th>parallel pvalue</th>\n",
       "      <th>cross corr</th>\n",
       "      <th>cross pvalue</th>\n",
       "      <th>folder</th>\n",
       "    </tr>\n",
       "  </thead>\n",
       "  <tbody>\n",
       "    <tr>\n",
       "      <th>0</th>\n",
       "      <td>0.08</td>\n",
       "      <td>0.611</td>\n",
       "      <td>-0.11</td>\n",
       "      <td>0.508</td>\n",
       "      <td>0.01</td>\n",
       "      <td>0.962</td>\n",
       "      <td>two</td>\n",
       "    </tr>\n",
       "    <tr>\n",
       "      <th>1</th>\n",
       "      <td>-0.48</td>\n",
       "      <td>0.042</td>\n",
       "      <td>0.40</td>\n",
       "      <td>0.103</td>\n",
       "      <td>0.27</td>\n",
       "      <td>0.280</td>\n",
       "      <td>multi</td>\n",
       "    </tr>\n",
       "  </tbody>\n",
       "</table>\n",
       "</div>"
      ],
      "text/plain": [
       "   series corr  series pvalue  parallel corr  parallel pvalue  cross corr  \\\n",
       "0         0.08          0.611          -0.11            0.508        0.01   \n",
       "1        -0.48          0.042           0.40            0.103        0.27   \n",
       "\n",
       "   cross pvalue folder  \n",
       "0         0.962    two  \n",
       "1         0.280  multi  "
      ]
     },
     "metadata": {},
     "output_type": "display_data"
    },
    {
     "data": {
      "text/html": [
       "<div>\n",
       "<style scoped>\n",
       "    .dataframe tbody tr th:only-of-type {\n",
       "        vertical-align: middle;\n",
       "    }\n",
       "\n",
       "    .dataframe tbody tr th {\n",
       "        vertical-align: top;\n",
       "    }\n",
       "\n",
       "    .dataframe thead th {\n",
       "        text-align: right;\n",
       "    }\n",
       "</style>\n",
       "<table border=\"1\" class=\"dataframe\">\n",
       "  <thead>\n",
       "    <tr style=\"text-align: right;\">\n",
       "      <th></th>\n",
       "      <th>series corr</th>\n",
       "      <th>series pvalue</th>\n",
       "      <th>parallel corr</th>\n",
       "      <th>parallel pvalue</th>\n",
       "      <th>cross corr</th>\n",
       "      <th>cross pvalue</th>\n",
       "      <th>folder</th>\n",
       "    </tr>\n",
       "  </thead>\n",
       "  <tbody>\n",
       "    <tr>\n",
       "      <th>0</th>\n",
       "      <td>-0.50</td>\n",
       "      <td>0.007</td>\n",
       "      <td>0.51</td>\n",
       "      <td>0.005</td>\n",
       "      <td>0.12</td>\n",
       "      <td>0.55</td>\n",
       "      <td>two</td>\n",
       "    </tr>\n",
       "    <tr>\n",
       "      <th>1</th>\n",
       "      <td>-0.97</td>\n",
       "      <td>0.000</td>\n",
       "      <td>0.88</td>\n",
       "      <td>0.008</td>\n",
       "      <td>0.97</td>\n",
       "      <td>0.00</td>\n",
       "      <td>multi</td>\n",
       "    </tr>\n",
       "  </tbody>\n",
       "</table>\n",
       "</div>"
      ],
      "text/plain": [
       "   series corr  series pvalue  parallel corr  parallel pvalue  cross corr  \\\n",
       "0        -0.50          0.007           0.51            0.005        0.12   \n",
       "1        -0.97          0.000           0.88            0.008        0.97   \n",
       "\n",
       "   cross pvalue folder  \n",
       "0          0.55    two  \n",
       "1          0.00  multi  "
      ]
     },
     "metadata": {},
     "output_type": "display_data"
    }
   ],
   "source": [
    "file_name='Out_potential0_short'\n",
    "higher = pd.read_excel('results/{}/higherCO.xls'.format(file_name))\n",
    "ave=pd.read_excel('results/{}/aveCO.xls'.format(file_name))\n",
    "lower= pd.read_excel('results/{}/lowerCO.xls'.format(file_name))\n",
    "\n",
    "#print data\n",
    "display(higher)\n",
    "display(ave)\n",
    "display(lower)"
   ]
  },
  {
   "cell_type": "markdown",
   "metadata": {},
   "source": [
    "Make correlation matrix: all values that yield pvalue<0.05 are eliminated"
   ]
  },
  {
   "cell_type": "code",
   "execution_count": 33,
   "metadata": {},
   "outputs": [],
   "source": [
    "corr_corrected=corr_matrix(higher, ave, lower)"
   ]
  },
  {
   "cell_type": "markdown",
   "metadata": {},
   "source": [
    "Plot heatmap"
   ]
  },
  {
   "cell_type": "code",
   "execution_count": 34,
   "metadata": {},
   "outputs": [
    {
     "data": {
      "image/png": "[encoded data removed]",
      "text/plain": [
       "<Figure size 432x288 with 2 Axes>"
      ]
     },
     "metadata": {
      "needs_background": "light"
     },
     "output_type": "display_data"
    }
   ],
   "source": [
    "SMALL_SIZE = 12\n",
    "MEDIUM_SIZE = 13\n",
    "BIGGER_SIZE = 17\n",
    "set_layout(SMALL_SIZE,MEDIUM_SIZE,BIGGER_SIZE)\n",
    "\n",
    "ax = sns.heatmap(\n",
    "    corr_corrected, \n",
    "    vmin=-1, vmax=1, center=0,\n",
    "    cmap=sns.diverging_palette(20, 220, n=200),\n",
    "    square=True\n",
    ")\n",
    "xlabels=['series','parallel','cross']\n",
    "ylabels=['two','multi','two','multi','two','multi']\n",
    "ax.set_xticklabels(xlabels)\n",
    "ax.set_yticklabels(ylabels)\n",
    "plt.xticks(rotation=30)\n",
    "plt.savefig('results/{}/figures/CO_correlation.jpg'.format(file_name))\n",
    "plt.savefig('results/{}/figures/CO_correlation.eps'.format(file_name),bbox_inches='tight')"
   ]
  },
  {
   "cell_type": "code",
   "execution_count": null,
   "metadata": {},
   "outputs": [],
   "source": []
  }
 ],
 "metadata": {
  "kernelspec": {
   "display_name": "Python 3",
   "language": "python",
   "name": "python3"
  },
  "language_info": {
   "codemirror_mode": {
    "name": "ipython",
    "version": 3
   },
   "file_extension": ".py",
   "mimetype": "text/x-python",
   "name": "python",
   "nbconvert_exporter": "python",
   "pygments_lexer": "ipython3",
   "version": "3.7.7"
  }
 },
 "nbformat": 4,
 "nbformat_minor": 4
}
